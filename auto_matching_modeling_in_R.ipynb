{
 "cells": [
  {
   "cell_type": "markdown",
   "metadata": {},
   "source": [
    "# 라이브러리"
   ]
  },
  {
   "cell_type": "code",
   "execution_count": 6,
   "metadata": {},
   "outputs": [
    {
     "name": "stderr",
     "output_type": "stream",
     "text": [
      "Warning message:\n",
      "\"package 'readxl' was built under R version 3.6.2\"Warning message:\n",
      "\"package 'changepoint' was built under R version 3.6.3\"Loading required package: zoo\n",
      "Warning message:\n",
      "\"package 'zoo' was built under R version 3.6.2\"\n",
      "Attaching package: 'zoo'\n",
      "\n",
      "The following objects are masked from 'package:base':\n",
      "\n",
      "    as.Date, as.Date.numeric\n",
      "\n",
      "Successfully loaded changepoint package version 2.2.2\n",
      " NOTE: Predefined penalty values changed in version 2.2.  Previous penalty values with a postfix 1 i.e. SIC1 are now without i.e. SIC and previous penalties without a postfix i.e. SIC are now with a postfix 0 i.e. SIC0. See NEWS and help files for further details.\n",
      "Warning message:\n",
      "\"package 'quantmod' was built under R version 3.6.3\"Loading required package: xts\n",
      "Warning message:\n",
      "\"package 'xts' was built under R version 3.6.2\"Loading required package: TTR\n",
      "Warning message:\n",
      "\"package 'TTR' was built under R version 3.6.2\"Registered S3 method overwritten by 'quantmod':\n",
      "  method            from\n",
      "  as.zoo.data.frame zoo \n",
      "Version 0.4-0 included new data defaults. See ?getSymbols.\n",
      "Warning message:\n",
      "\"package 'forecast' was built under R version 3.6.3\"Warning message:\n",
      "\"package 'lmtest' was built under R version 3.6.2\"Warning message:\n",
      "\"package 'sarima' was built under R version 3.6.3\"Loading required package: FitAR\n",
      "Warning message:\n",
      "\"package 'FitAR' was built under R version 3.6.2\"Loading required package: lattice\n",
      "Loading required package: leaps\n",
      "Warning message:\n",
      "\"package 'leaps' was built under R version 3.6.2\"Loading required package: ltsa\n",
      "Loading required package: bestglm\n",
      "Warning message:\n",
      "\"package 'bestglm' was built under R version 3.6.2\"\n",
      "Attaching package: 'FitAR'\n",
      "\n",
      "The following object is masked from 'package:forecast':\n",
      "\n",
      "    BoxCox\n",
      "\n",
      "Loading required package: stats4\n",
      "Warning message:\n",
      "\"package 'randomForest' was built under R version 3.6.3\"randomForest 4.6-14\n",
      "Type rfNews() to see new features/changes/bug fixes.\n",
      "Warning message:\n",
      "\"package 'ggplot2' was built under R version 3.6.2\"\n",
      "Attaching package: 'ggplot2'\n",
      "\n",
      "The following object is masked from 'package:randomForest':\n",
      "\n",
      "    margin\n",
      "\n",
      "Warning message:\n",
      "\"package 'gridExtra' was built under R version 3.6.2\"\n",
      "Attaching package: 'gridExtra'\n",
      "\n",
      "The following object is masked from 'package:randomForest':\n",
      "\n",
      "    combine\n",
      "\n"
     ]
    }
   ],
   "source": [
    "# install.packages(\"readxl\")\n",
    "# install.packages(\"lm.beta\")\n",
    "# install.packages(\"changepoint\")\n",
    "# install.packages(\"quantmod\")\n",
    "# install.packages(\"forecast\")\n",
    "# install.packages(\"lmtest\")\n",
    "# install.packages(\"sarima\")\n",
    "# install.packages(\"randomForest\")\n",
    "# install.packages(\"ggplot2\")\n",
    "\n",
    "library(readxl)\n",
    "library(lm.beta)\n",
    "library(changepoint)\n",
    "library(quantmod)\n",
    "library(forecast)\n",
    "library(lmtest)\n",
    "library(sarima)\n",
    "library(randomForest)\n",
    "library(ggplot2)\n",
    "library(gridExtra)\n",
    "\n",
    "#setwd(\"D:/DSoft\")"
   ]
  },
  {
   "cell_type": "markdown",
   "metadata": {},
   "source": [
    "# 테스트 데이터 가져오기"
   ]
  },
  {
   "cell_type": "code",
   "execution_count": 3,
   "metadata": {},
   "outputs": [],
   "source": [
    "k = 6  ## 한 파일에 여러 데이터셋 들어있을 경우 열넘버로 지정. 데이터셋 하나면 k=1"
   ]
  },
  {
   "cell_type": "code",
   "execution_count": 83,
   "metadata": {
    "scrolled": false
   },
   "outputs": [],
   "source": [
    "# excel.xlsx 파일인 경우\n",
    "excelData = read_excel(\"example10.xlsx\", col_types = \"numeric\")[,k]\n",
    "excelData_title = names(excelData)\n",
    "excelData = na.omit(excelData)[[1]] # 1차원 벡터 or 리스트 형태"
   ]
  },
  {
   "cell_type": "code",
   "execution_count": 4,
   "metadata": {
    "scrolled": true
   },
   "outputs": [],
   "source": [
    "# csv 파일인 경우\n",
    "excelData = read.csv(\"example10.csv\", header = TRUE)\n",
    "excelData_title = colnames(excelData)[k]\n",
    "excelData = as.numeric(na.omit(excelData[,k]))"
   ]
  },
  {
   "cell_type": "markdown",
   "metadata": {},
   "source": [
    "# X변수 계산하기"
   ]
  },
  {
   "cell_type": "code",
   "execution_count": 7,
   "metadata": {},
   "outputs": [],
   "source": [
    "#평균_증감률(avg_increase)\n",
    "temp = c()\n",
    "for(j in 2:length(excelData)) {\n",
    "  temp = rbind(temp, ((excelData[j]-excelData[j-1]) / excelData[j-1]) * 100)\n",
    "}\n",
    "avg_increase = mean(temp)\n",
    "\n",
    "\n",
    "#근시점_증감률(previous_increase)\n",
    "previous_increase = ((excelData[length(excelData)] - excelData[length(excelData)-1]) / excelData[length(excelData)-1]) * 100\n",
    "\n",
    "\n",
    "#최소최대(mm) : min/max\n",
    "mm = min(excelData, na.rm=TRUE) / max(excelData, na.rm=TRUE)\n",
    "\n",
    "\n",
    "#절댓값_최소최대(mmm) : (|min|+|max|)/|max|\n",
    "mmm = (abs(min(excelData, na.rm=TRUE)) + abs(max(excelData, na.rm=TRUE))) / abs(max(excelData, na.rm=TRUE))\n",
    "\n",
    "\n",
    "#절댓값_최소최대_구간(mmm_t) : mmm < 1.5 : A  //  1.5 <= mmm < 2 : B  //  2 <= mmm : C\n",
    "mmm_t = ifelse(mmm<1.5,\"A\", ifelse(mmm<2,\"B\", \"C\"))\n",
    "\n",
    "\n",
    "#변동계수(cv) : 표준편차/평균\n",
    "cv = sd(excelData, na.rm = TRUE) / mean(excelData, na.rm = TRUE)\n",
    "\n",
    "\n",
    "#분위수_비율(p) : 하위10% / 상위 10%\n",
    "p = quantile(excelData, probs=0.10, na.rm=TRUE) / quantile(excelData, probs=0.90, na.rm=TRUE)\n",
    "p = p[[1]]\n",
    "\n",
    "\n",
    "#표준화_slope(slope) : 표준화 선형 회귀 계수\n",
    "temp = data.frame(x = 1:length(excelData), y = excelData)  ##temp : X=1~n, Y=excelData\n",
    "model = lm(temp[,2] ~ temp[,1], data=temp)  ##model : 데이터별 선형회귀모형\n",
    "slope = summary(lm.beta(model))$coef[2,2]\n",
    "\n",
    "\n",
    "#ChangePoint_유무(cpt_t) : 변곡점 유무\n",
    "#changepoint : 변곡점 개수\n",
    "changepoint = c()\n",
    "example_data = excelData\n",
    "if (length(example_data) < 4){\n",
    "  changepoint = data.frame(mcount=100)\n",
    "}else {\n",
    "  mvalues= cpt.meanvar(example_data,method=\"BinSeg\",Q=3) \n",
    "  changepoint = data.frame(mcount=length(cpts(mvalues)))   \n",
    "}\n",
    "#ChangePoint_유무(cpt_t) : changepoint > 0 : A  //  changepoint == 0 : B\n",
    "cpt_t = ifelse(changepoint[,1]>0,\"A\",\"B\")\n",
    "\n",
    "\n",
    "#PeakValley(peakvalley) : 극댓값(peak)과 극솟값(valley)의 개수\n",
    "peakvalley = length(findPeaks(excelData)) + length(findValleys(excelData))\n",
    "\n",
    "\n",
    "#PeakValley_구간(pv_t) : peakvalley == 1 : A  //  peakvalley != 1 : B\n",
    "pv_t = ifelse(peakvalley==1, \"A\", \"B\")\n",
    "\n",
    "\n",
    "#ARIMA_차수(ARIMA_q) : 시계열 데이터의 ARIMA 모형에서 q차수\n",
    "ARIMA_q = arimaorder(auto.arima(ts(excelData)))[[3]]\n",
    "\n",
    "\n",
    "#자기상관_유의_유무(dw_t)\n",
    "#dw : 자기상관 유의확률\n",
    "temp = data.frame(t=1:length(excelData), y=excelData)\n",
    "dw = dwtest(y~t, data=temp)$p.value\n",
    "#dw_t : 자기상관 유의 유무\n",
    "dw_t = ifelse(dw < 0.05, \"A\", \"B\")\n",
    "\n",
    "\n",
    "#백색잡음_유의_유무(wn_t)\n",
    "#wn : 백색잡음 유의확률\n",
    "excelData.acf = autocorrelations(excelData)\n",
    "wn = whiteNoiseTest(excelData.acf, h0=\"iid\")$test[1,3]\n",
    "#wn_t : 백색잡음 유의 유무\n",
    "wn_t = ifelse(wn < 0.1, \"A\", \"B\")[[1]]\n",
    "\n",
    "\n",
    "#peak : 현시점의 최소 혹은 최대 유무\n",
    "peak = ifelse(excelData[length(excelData)]==min(excelData, na.rm=TRUE) || \n",
    "                excelData[length(excelData)]==max(excelData, na.rm=TRUE),\"A\",\"B\")\n",
    "\n",
    "\n",
    "#근시점_차이(previous_differ)\n",
    "n = length(excelData)\n",
    "first = as.numeric((excelData[n]-excelData[n-1])/excelData[n-1])\n",
    "second = as.numeric((excelData[n-1]-excelData[n-2])/excelData[n-2])\n",
    "previous_differ = first/second\n"
   ]
  },
  {
   "cell_type": "markdown",
   "metadata": {},
   "source": [
    "# 모델링 ☞ ** 데이터의 대분류, 소분류, 주제분류 포함하지 않는 경우 **"
   ]
  },
  {
   "cell_type": "markdown",
   "metadata": {},
   "source": [
    "# 테스트 데이터 & 학습 데이터 정리"
   ]
  },
  {
   "cell_type": "code",
   "execution_count": 8,
   "metadata": {},
   "outputs": [],
   "source": [
    "# 테스트 데이터 X변수 묶기\n",
    "tst = data.frame(avg_increase, previous_increase, mm, mmm, mmm_t, cv, p, slope, cpt_t, peakvalley, ARIMA_q, dw_t, wn_t, peak, pv_t, previous_differ)\n",
    "tst = as.data.frame(tst)\n",
    "colnames(tst) <- c('평균_증감률', '근시점_증감률', '최소최대', '절댓값_최소최대', '절댓값_최소최대_구간', '변동계수', '분위수_비율', '표준화_slope', 'ChangePoint_유무', 'PeakValley', 'ARIMA_차수', '자기상관_유의_유무', '백색잡음_유의_유무', 'Peak', 'PeakValley_구간', '근시점_차이')\n",
    "\n",
    "# 데이터 행 이름 지정하기\n",
    "rownames(tst) <- excelData_title\n",
    "\n",
    "# 테스트 데이터의 factor 변수 numeric으로 형 변환하기\n",
    "tst$절댓값_최소최대_구간 <- as.numeric(tst$절댓값_최소최대_구간)\n",
    "tst$ChangePoint_유무 <- as.numeric(tst$ChangePoint_유무)\n",
    "tst$자기상관_유의_유무 <- as.numeric(tst$자기상관_유의_유무)\n",
    "tst$백색잡음_유의_유무 <- as.numeric(tst$백색잡음_유의_유무)\n",
    "tst$Peak <- as.numeric(tst$Peak)\n",
    "tst$PeakValley_구간 <- as.numeric(tst$PeakValley_구간)\n",
    "\n",
    "\n",
    "\n",
    "\n",
    "# 학습 데이터 가져오기\n",
    "train <- read.csv(\"training_data.csv\", header = TRUE)\n",
    "train <- train[c(1:307), -c(2:4)]\n",
    "train <- cbind(train[, c(1:17)], as.character(train[, 18]))\n",
    "names(train)[18] <- \"Check_Component\"\n",
    "train <- train[, -1]\n",
    "\n",
    "# 학습 데이터의 factor 변수 numeric으로 형 변환하기\n",
    "train$절댓값_최소최대_구간 <- as.numeric(train$절댓값_최소최대_구간)\n",
    "train$ChangePoint_유무 <- as.numeric(train$ChangePoint_유무)\n",
    "train$자기상관_유의_유무 <- as.numeric(train$자기상관_유의_유무)\n",
    "train$백색잡음_유의_유무 <- as.numeric(train$백색잡음_유의_유무)\n",
    "train$Peak <- as.numeric(train$Peak)\n",
    "train$PeakValley_구간 <- as.numeric(train$PeakValley_구간)\n",
    "train$Check_Component <- as.character(train$Check_Component)\n"
   ]
  },
  {
   "cell_type": "markdown",
   "metadata": {},
   "source": [
    "# 모델링 -> 확률 추출"
   ]
  },
  {
   "cell_type": "code",
   "execution_count": 9,
   "metadata": {
    "scrolled": false
   },
   "outputs": [
    {
     "data": {
      "text/html": [
       "<table>\n",
       "<thead><tr><th scope=col>증감</th><th scope=col>전시점</th><th scope=col>최고지점</th><th scope=col>변곡점</th></tr></thead>\n",
       "<tbody>\n",
       "\t<tr><td>0.5228571 </td><td>0.01857143</td><td>0.41      </td><td>0.03857143</td></tr>\n",
       "</tbody>\n",
       "</table>\n"
      ],
      "text/latex": [
       "\\begin{tabular}{r|llll}\n",
       " 증감 & 전시점 & 최고지점 & 변곡점\\\\\n",
       "\\hline\n",
       "\t 0.5228571  & 0.01857143 & 0.41       & 0.03857143\\\\\n",
       "\\end{tabular}\n"
      ],
      "text/markdown": [
       "\n",
       "| 증감 | 전시점 | 최고지점 | 변곡점 |\n",
       "|---|---|---|---|\n",
       "| 0.5228571  | 0.01857143 | 0.41       | 0.03857143 |\n",
       "\n"
      ],
      "text/plain": [
       "  증감      전시점     최고지점 변곡점    \n",
       "1 0.5228571 0.01857143 0.41     0.03857143"
      ]
     },
     "metadata": {},
     "output_type": "display_data"
    }
   ],
   "source": [
    "# 1번 증감률 컴포넌트 T/F 구하기\n",
    "증감 <- ifelse(train$Check_Component == \"1\", \"1\", \"0\")\n",
    "train_jeung <- cbind(train, 증감)\n",
    "train_jeung <- train_jeung[, -17]\n",
    "\n",
    "rf <- randomForest(증감 ~ 표준화_slope + 평균_증감률 + PeakValley + PeakValley_구간, data = train_jeung, importance = TRUE, ntree = 700, na.action = na.omit)\n",
    "pre <- predict(rf, newdata = tst, type = \"prob\")\n",
    "prob_jeung <- pre[, 2]\n",
    "\n",
    "\n",
    "# 9번 전시점비교 컴포넌트 T/F 구하기\n",
    "전시점 <- ifelse(train$Check_Component == \"9\", \"1\", \"0\")\n",
    "train_jeon <- cbind(train, 전시점)\n",
    "train_jeon <- train_jeon[, -17]\n",
    "\n",
    "rf <- randomForest(전시점 ~ ChangePoint_유무 + Peak + 근시점_증감률 + 최소최대 + 분위수_비율, data = train_jeon, importance = TRUE, ntree = 700, na.action = na.omit)\n",
    "pre <- predict(rf, newdata = tst, type = \"prob\")\n",
    "prob_jeon <- pre[, 2]\n",
    "\n",
    "  \n",
    "# 12번 최고지점 컴포넌트 T/F 구하기\n",
    "최고지점 <- ifelse(train$Check_Component == \"12\", \"1\", \"0\")\n",
    "train_choi <- cbind(train, 최고지점)\n",
    "train_choi <- train_choi[, -17]\n",
    "\n",
    "rf <- randomForest(최고지점 ~ 표준화_slope + 평균_증감률 + 근시점_증감률 + 최소최대 + 절댓값_최소최대 + 분위수_비율 + ChangePoint_유무 + PeakValley + Peak, data = train_choi, importance = TRUE, ntree = 700, na.action = na.omit)\n",
    "pre <- predict(rf, newdata = tst, type = \"prob\")\n",
    "prob_choi <- pre[, 2]\n",
    "\n",
    "  \n",
    "# 13번 변곡점 컴포넌트 T/F 구하기\n",
    "CP <- ifelse(train$Check_Component == \"13\", \"1\", \"0\")\n",
    "train_CP <- cbind(train, CP)\n",
    "train_CP <- train_CP[, -17]\n",
    "\n",
    "rf <- randomForest(CP ~ ChangePoint_유무 + PeakValley + 표준화_slope, data = train_CP, importance = TRUE, ntree = 700, na.action = na.omit)\n",
    "pre <- predict(rf, newdata = tst, type = \"prob\")\n",
    "prob_CP <- pre[, 2]\n",
    "\n",
    "\n",
    "\n",
    "\n",
    "\n",
    "# 각각에 해당할 확률 취합하기\n",
    "prob <- cbind(prob_jeung, prob_jeon, prob_choi, prob_CP)\n",
    "prob <- as.data.frame(prob)\n",
    "\n",
    "# 각각의 확률값\n",
    "prob2 <- data.frame(증감=prob[,1], 전시점=prob[,2], 최고지점=prob[,3], 변곡점=prob[,4])\n",
    "prob2\n"
   ]
  },
  {
   "cell_type": "markdown",
   "metadata": {},
   "source": [
    "# 예측 컴포넌트 추출"
   ]
  },
  {
   "cell_type": "code",
   "execution_count": 10,
   "metadata": {},
   "outputs": [
    {
     "data": {
      "text/html": [
       "<ol class=list-inline>\n",
       "\t<li><span style=white-space:pre-wrap>'예측 컴포넌트 :  증감률'</span></li>\n",
       "\t<li><span style=white-space:pre-wrap>'예측 컴포넌트 :  최고지점'</span></li>\n",
       "</ol>\n"
      ],
      "text/latex": [
       "\\begin{enumerate*}\n",
       "\\item '예측 컴포넌트 :  증감률'\n",
       "\\item '예측 컴포넌트 :  최고지점'\n",
       "\\end{enumerate*}\n"
      ],
      "text/markdown": [
       "1. <span style=white-space:pre-wrap>'예측 컴포넌트 :  증감률'</span>\n",
       "2. <span style=white-space:pre-wrap>'예측 컴포넌트 :  최고지점'</span>\n",
       "\n",
       "\n"
      ],
      "text/plain": [
       "[1] \"예측 컴포넌트 :  증감률\"   \"예측 컴포넌트 :  최고지점\""
      ]
     },
     "metadata": {},
     "output_type": "display_data"
    }
   ],
   "source": [
    "# 각각의 cutoff 구하기\n",
    "\n",
    "tmp <- nrow(subset(train, train$Check_Component == 1))\n",
    "cutoff_jeung <- tmp / nrow(train)\n",
    "\n",
    "tmp <- nrow(subset(train, train$Check_Component == 9))\n",
    "cutoff_jeon <- tmp / nrow(train)\n",
    "\n",
    "tmp <- nrow(subset(train, train$Check_Component == 12))\n",
    "cutoff_choi <- tmp / nrow(train)\n",
    "\n",
    "tmp <- nrow(subset(train, train$Check_Component == 13))\n",
    "cutoff_CP <- tmp / nrow(train)\n",
    "\n",
    "pred_comp <- c()\n",
    "\n",
    "if(prob$prob_jeung >= cutoff_jeung) {\n",
    "  pred_comp <- append(pred_comp, '증감률')\n",
    "}\n",
    "\n",
    "if(prob$prob_jeon >= cutoff_jeon) {\n",
    "  pred_comp <- append(pred_comp, '전시점비교')\n",
    "}\n",
    "\n",
    "if(prob$prob_choi >= cutoff_choi) {\n",
    "  pred_comp <- append(pred_comp, '최고지점')\n",
    "}\n",
    "\n",
    "if(prob$prob_CP >= cutoff_CP) {\n",
    "  pred_comp <- append(pred_comp, '변곡점')\n",
    "}\n",
    "\n",
    "pred_comp <- as.vector(pred_comp)\n",
    "paste('예측 컴포넌트 : ', pred_comp)"
   ]
  },
  {
   "cell_type": "markdown",
   "metadata": {},
   "source": [
    "# 결과 plot"
   ]
  },
  {
   "cell_type": "code",
   "execution_count": 11,
   "metadata": {},
   "outputs": [
    {
     "data": {
      "image/png": "[encoded data removed]",
      "text/plain": [
       "plot without title"
      ]
     },
     "metadata": {},
     "output_type": "display_data"
    }
   ],
   "source": [
    "# 그래프 그리기 위해 raw data 정제하기\n",
    "index <- c(1:length(excelData))\n",
    "r_tst <- cbind(index, excelData)\n",
    "r_tst <- as.data.frame(r_tst)\n",
    "options(repr.plot.width=8, repr.plot.height=4)\n",
    "\n",
    "# Raw data의 그래프 그리기 & 예측한 컴포넌트 나타내기\n",
    "tst_plot <- ggplot(data = r_tst, aes(x = r_tst[, 1], y = r_tst[, 2])) + xlab(\"시점\") + ylab('시계열 데이터') + geom_line(color = 'navy') + geom_point(size = 1)\n",
    "pred_comp = data.frame(Component = pred_comp)\n",
    "grid.arrange(tst_plot + ggtitle(paste('데이터명:', excelData_title)) + theme(plot.title = element_text(size = 20, hjust = 0.5)),\n",
    "             tableGrob(pred_comp, rows = NULL), widths = c(3, 1))\n"
   ]
  },
  {
   "cell_type": "markdown",
   "metadata": {},
   "source": [
    "# 모델링 ☞ ** 데이터의 대분류, 소분류, 주제분류 포함하는 경우 **"
   ]
  },
  {
   "cell_type": "markdown",
   "metadata": {},
   "source": [
    "# 테스트 데이터 & 학습 데이터 정리"
   ]
  },
  {
   "cell_type": "code",
   "execution_count": 12,
   "metadata": {
    "scrolled": true
   },
   "outputs": [
    {
     "data": {
      "text/html": [
       "<table>\n",
       "<tbody>\n",
       "\t<tr><th scope=row>대분류</th><td>보건/복지</td><td>인구/가구</td><td>고용/임금</td><td>물가/가계</td><td>사회     </td><td>경기/경영</td><td>재정     </td><td>경제/금융</td><td>교육/문화</td><td>과학/환경</td><td>에너지   </td><td>무역/수지</td></tr>\n",
       "</tbody>\n",
       "</table>\n"
      ],
      "text/latex": [
       "\\begin{tabular}{r|llllllllllll}\n",
       "\t대분류 & 보건/복지 & 인구/가구 & 고용/임금 & 물가/가계 & 사회      & 경기/경영 & 재정      & 경제/금융 & 교육/문화 & 과학/환경 & 에너지    & 무역/수지\\\\\n",
       "\\end{tabular}\n"
      ],
      "text/markdown": [
       "\n",
       "| 대분류 | 보건/복지 | 인구/가구 | 고용/임금 | 물가/가계 | 사회      | 경기/경영 | 재정      | 경제/금융 | 교육/문화 | 과학/환경 | 에너지    | 무역/수지 |\n",
       "\n"
      ],
      "text/plain": [
       "       [,1]      [,2]      [,3]      [,4]      [,5] [,6]      [,7] [,8]     \n",
       "대분류 보건/복지 인구/가구 고용/임금 물가/가계 사회 경기/경영 재정 경제/금융\n",
       "       [,9]      [,10]     [,11]  [,12]    \n",
       "대분류 교육/문화 과학/환경 에너지 무역/수지"
      ]
     },
     "metadata": {},
     "output_type": "display_data"
    },
    {
     "name": "stdout",
     "output_type": "stream",
     "text": [
      "대분류 : 고용/임금\n"
     ]
    },
    {
     "data": {
      "text/html": [
       "<table>\n",
       "<tbody>\n",
       "\t<tr><th scope=row>소분류</th><td>실측값</td><td>비율  </td><td>통계값</td><td>지수  </td></tr>\n",
       "</tbody>\n",
       "</table>\n"
      ],
      "text/latex": [
       "\\begin{tabular}{r|llll}\n",
       "\t소분류 & 실측값 & 비율   & 통계값 & 지수  \\\\\n",
       "\\end{tabular}\n"
      ],
      "text/markdown": [
       "\n",
       "| 소분류 | 실측값 | 비율   | 통계값 | 지수   |\n",
       "\n"
      ],
      "text/plain": [
       "       [,1]   [,2] [,3]   [,4]\n",
       "소분류 실측값 비율 통계값 지수"
      ]
     },
     "metadata": {},
     "output_type": "display_data"
    },
    {
     "name": "stdout",
     "output_type": "stream",
     "text": [
      "소분류 : 실측값\n"
     ]
    },
    {
     "data": {
      "text/html": [
       "<table>\n",
       "<tbody>\n",
       "\t<tr><th scope=row>주제분류</th><td>비율</td><td>수  </td><td>금액</td><td>지수</td><td>수량</td><td>기타</td></tr>\n",
       "</tbody>\n",
       "</table>\n"
      ],
      "text/latex": [
       "\\begin{tabular}{r|llllll}\n",
       "\t주제분류 & 비율 & 수   & 금액 & 지수 & 수량 & 기타\\\\\n",
       "\\end{tabular}\n"
      ],
      "text/markdown": [
       "\n",
       "| 주제분류 | 비율 | 수   | 금액 | 지수 | 수량 | 기타 |\n",
       "\n"
      ],
      "text/plain": [
       "         [,1] [,2] [,3] [,4] [,5] [,6]\n",
       "주제분류 비율 수   금액 지수 수량 기타"
      ]
     },
     "metadata": {},
     "output_type": "display_data"
    },
    {
     "name": "stdout",
     "output_type": "stream",
     "text": [
      "주제분류 : 수\n"
     ]
    }
   ],
   "source": [
    "# 대분류, 소분류, 주제분류 입력받기\n",
    "t(data.frame(대분류=c('보건/복지', '인구/가구', '고용/임금', '물가/가계', '사회', '경기/경영', '재정', '경제/금융', '교육/문화', '과학/환경', '에너지', '무역/수지')))\n",
    "대분류 = readline('대분류 : ')\n",
    "t(data.frame(소분류=c('실측값', '비율', '통계값', '지수')))\n",
    "소분류 = readline('소분류 : ')\n",
    "t(data.frame(주제분류=c('비율', '수', '금액', '지수', '수량', '기타')))\n",
    "주제분류 = readline('주제분류 : ')\n",
    "\n",
    "# 테스트 데이터 X변수 묶기\n",
    "tst = data.frame(대분류, 소분류, 주제분류, avg_increase, previous_increase, mm, mmm, mmm_t, cv, p, slope, cpt_t, peakvalley, ARIMA_q, dw_t, wn_t, peak, pv_t, previous_differ)\n",
    "tst = as.data.frame(tst)\n",
    "colnames(tst) <- c('대분류', '소분류', '주제분류', '평균_증감률', '근시점_증감률', '최소최대', '절댓값_최소최대', '절댓값_최소최대_구간', '변동계수', '분위수_비율', '표준화_slope', 'ChangePoint_유무', 'PeakValley', 'ARIMA_차수', '자기상관_유의_유무', '백색잡음_유의_유무', 'Peak', 'PeakValley_구간', '근시점_차이')\n",
    "\n",
    "# 데이터 행 이름 지정하기\n",
    "rownames(tst) <- excelData_title\n",
    "\n",
    "# 테스트 데이터의 factor 변수 numeric으로 형 변환하기\n",
    "tst$대분류 <- as.numeric(tst$대분류)\n",
    "tst$소분류 <- as.numeric(tst$소분류)\n",
    "tst$주제분류 <- as.numeric(tst$주제분류)\n",
    "tst$절댓값_최소최대_구간 <- as.numeric(tst$절댓값_최소최대_구간)\n",
    "tst$ChangePoint_유무 <- as.numeric(tst$ChangePoint_유무)\n",
    "tst$자기상관_유의_유무 <- as.numeric(tst$자기상관_유의_유무)\n",
    "tst$백색잡음_유의_유무 <- as.numeric(tst$백색잡음_유의_유무)\n",
    "tst$Peak <- as.numeric(tst$Peak)\n",
    "tst$PeakValley_구간 <- as.numeric(tst$PeakValley_구간)\n",
    "\n",
    "\n",
    "\n",
    "\n",
    "# 학습 데이터 가져오기\n",
    "train <- read.csv(\"training_data.csv\", header = TRUE)\n",
    "train <- train[c(1:307), ]\n",
    "train <- cbind(train[, c(1:20)], as.character(train[, 21]))\n",
    "names(train)[21] <- \"Check_Component\"\n",
    "train <- train[, -1]\n",
    "\n",
    "# 학습 데이터의 factor 변수 numeric으로 형 변환하기\n",
    "train$대분류 <- as.numeric(train$대분류)\n",
    "train$소분류 <- as.numeric(train$소분류)\n",
    "train$주제분류 <- as.numeric(train$주제분류)\n",
    "train$절댓값_최소최대_구간 <- as.numeric(train$절댓값_최소최대_구간)\n",
    "train$ChangePoint_유무 <- as.numeric(train$ChangePoint_유무)\n",
    "train$자기상관_유의_유무 <- as.numeric(train$자기상관_유의_유무)\n",
    "train$백색잡음_유의_유무 <- as.numeric(train$백색잡음_유의_유무)\n",
    "train$Peak <- as.numeric(train$Peak)\n",
    "train$PeakValley_구간 <- as.numeric(train$PeakValley_구간)\n",
    "train$Check_Component <- as.character(train$Check_Component)\n"
   ]
  },
  {
   "cell_type": "markdown",
   "metadata": {},
   "source": [
    "# 모델링 -> 확률 추출"
   ]
  },
  {
   "cell_type": "code",
   "execution_count": 13,
   "metadata": {},
   "outputs": [
    {
     "data": {
      "text/html": [
       "<table>\n",
       "<thead><tr><th scope=col>증감</th><th scope=col>전시점</th><th scope=col>최고지점</th><th scope=col>변곡점</th></tr></thead>\n",
       "<tbody>\n",
       "\t<tr><td>0.6214286 </td><td>0.01142857</td><td>0.34      </td><td>0.3542857 </td></tr>\n",
       "</tbody>\n",
       "</table>\n"
      ],
      "text/latex": [
       "\\begin{tabular}{r|llll}\n",
       " 증감 & 전시점 & 최고지점 & 변곡점\\\\\n",
       "\\hline\n",
       "\t 0.6214286  & 0.01142857 & 0.34       & 0.3542857 \\\\\n",
       "\\end{tabular}\n"
      ],
      "text/markdown": [
       "\n",
       "| 증감 | 전시점 | 최고지점 | 변곡점 |\n",
       "|---|---|---|---|\n",
       "| 0.6214286  | 0.01142857 | 0.34       | 0.3542857  |\n",
       "\n"
      ],
      "text/plain": [
       "  증감      전시점     최고지점 변곡점   \n",
       "1 0.6214286 0.01142857 0.34     0.3542857"
      ]
     },
     "metadata": {},
     "output_type": "display_data"
    }
   ],
   "source": [
    "\n",
    "# 1번 증감률 컴포넌트 T/F 구하기\n",
    "증감 <- ifelse(train$Check_Component == \"1\", \"1\", \"0\")\n",
    "train_jeung <- cbind(train, 증감)\n",
    "train_jeung <- train_jeung[, -20]\n",
    "\n",
    "rf <- randomForest(증감 ~ 대분류 + 표준화_slope + PeakValley + PeakValley_구간, data = train_jeung, importance = TRUE, ntree = 700, na.action = na.omit)\n",
    "pre <- predict(rf, newdata = tst, type = \"prob\")\n",
    "prob_jeung <- pre[, 2]\n",
    "\n",
    "\n",
    "# 9번 전시점비교 컴포넌트 T/F 구하기\n",
    "전시점 <- ifelse(train$Check_Component == \"9\", \"1\", \"0\")\n",
    "train_jeon <- cbind(train, 전시점)\n",
    "train_jeon <- train_jeon[, -20]\n",
    "\n",
    "rf <- randomForest(전시점 ~ ChangePoint_유무 + Peak + 근시점_증감률 + 최소최대 + 분위수_비율, data = train_jeon, importance = TRUE, ntree = 700, na.action = na.omit)\n",
    "pre <- predict(rf, newdata = tst, type = \"prob\")\n",
    "prob_jeon <- pre[, 2]\n",
    "\n",
    "\n",
    "# 12번 최고지점 컴포넌트 T/F 구하기\n",
    "최고지점 <- ifelse(train$Check_Component == \"12\", \"1\", \"0\")\n",
    "train_choi <- cbind(train, 최고지점)\n",
    "train_choi <- train_choi[, -20]\n",
    "\n",
    "rf <- randomForest(최고지점 ~ 대분류 + 근시점_증감률 + 소분류 + ChangePoint_유무 + Peak+PeakValley + 근시점_차이, data = train_choi, importance = TRUE, ntree = 700, na.action = na.omit)\n",
    "pre <- predict(rf, newdata = tst, type = \"prob\")\n",
    "prob_choi <- pre[, 2]\n",
    "\n",
    "\n",
    "# 13번 변곡점 컴포넌트 T/F 구하기\n",
    "CP <- ifelse(train$Check_Component == \"13\", \"1\", \"0\")\n",
    "train_CP <- cbind(train, CP)\n",
    "train_CP <- train_CP[, -20]\n",
    "\n",
    "rf <- randomForest(CP ~ Peak + 근시점_차이 + PeakValley_구간 + 표준화_slope + 최소최대, data = train_CP, importance = TRUE, ntree = 700, na.action = na.omit)\n",
    "pre <- predict(rf, newdata = tst, type = \"prob\")\n",
    "prob_CP <- pre[, 2]\n",
    "\n",
    "\n",
    "\n",
    "\n",
    "\n",
    "# 각각에 해당할 확률 취합하기\n",
    "prob <- cbind(prob_jeung, prob_jeon, prob_choi, prob_CP)\n",
    "prob <- as.data.frame(prob)\n",
    "\n",
    "# 각각의 확률값\n",
    "prob2 <- data.frame(증감=prob[,1], 전시점=prob[,2], 최고지점=prob[,3], 변곡점=prob[,4])\n",
    "prob2\n"
   ]
  },
  {
   "cell_type": "markdown",
   "metadata": {},
   "source": [
    "# 예측 컴포넌트 추출"
   ]
  },
  {
   "cell_type": "code",
   "execution_count": 14,
   "metadata": {},
   "outputs": [
    {
     "data": {
      "text/html": [
       "<ol class=list-inline>\n",
       "\t<li><span style=white-space:pre-wrap>'예측 컴포넌트 :  증감률'</span></li>\n",
       "\t<li><span style=white-space:pre-wrap>'예측 컴포넌트 :  최고지점'</span></li>\n",
       "\t<li><span style=white-space:pre-wrap>'예측 컴포넌트 :  변곡점'</span></li>\n",
       "</ol>\n"
      ],
      "text/latex": [
       "\\begin{enumerate*}\n",
       "\\item '예측 컴포넌트 :  증감률'\n",
       "\\item '예측 컴포넌트 :  최고지점'\n",
       "\\item '예측 컴포넌트 :  변곡점'\n",
       "\\end{enumerate*}\n"
      ],
      "text/markdown": [
       "1. <span style=white-space:pre-wrap>'예측 컴포넌트 :  증감률'</span>\n",
       "2. <span style=white-space:pre-wrap>'예측 컴포넌트 :  최고지점'</span>\n",
       "3. <span style=white-space:pre-wrap>'예측 컴포넌트 :  변곡점'</span>\n",
       "\n",
       "\n"
      ],
      "text/plain": [
       "[1] \"예측 컴포넌트 :  증감률\"   \"예측 컴포넌트 :  최고지점\"\n",
       "[3] \"예측 컴포넌트 :  변곡점\"  "
      ]
     },
     "metadata": {},
     "output_type": "display_data"
    }
   ],
   "source": [
    "# 각각의 cutoff 구하기\n",
    "\n",
    "tmp <- nrow(subset(train, train$Check_Component == 1))\n",
    "cutoff_jeung <- tmp / nrow(train)\n",
    "\n",
    "tmp <- nrow(subset(train, train$Check_Component == 9))\n",
    "cutoff_jeon <- tmp / nrow(train)\n",
    "\n",
    "tmp <- nrow(subset(train, train$Check_Component == 12))\n",
    "cutoff_choi <- tmp / nrow(train)\n",
    "\n",
    "tmp <- nrow(subset(train, train$Check_Component == 13))\n",
    "cutoff_CP <- tmp / nrow(train)\n",
    "\n",
    "\n",
    "pred_comp <- c()\n",
    "\n",
    "if(prob$prob_jeung >= cutoff_jeung) {\n",
    "  pred_comp <- append(pred_comp, '증감률')\n",
    "}\n",
    "\n",
    "if(prob$prob_jeon >= cutoff_jeon) {\n",
    "  pred_comp <- append(pred_comp, '전시점비교')\n",
    "}\n",
    "\n",
    "if(prob$prob_choi >= cutoff_choi) {\n",
    "  pred_comp <- append(pred_comp, '최고지점')\n",
    "}\n",
    "\n",
    "if(prob$prob_CP >= cutoff_CP) {\n",
    "  pred_comp <- append(pred_comp, '변곡점')\n",
    "}\n",
    "\n",
    "pred_comp <- as.vector(pred_comp)\n",
    "paste('예측 컴포넌트 : ', pred_comp)"
   ]
  },
  {
   "cell_type": "markdown",
   "metadata": {},
   "source": [
    "# 결과 plot"
   ]
  },
  {
   "cell_type": "code",
   "execution_count": 15,
   "metadata": {},
   "outputs": [
    {
     "data": {
      "image/png": "[encoded data removed]",
      "text/plain": [
       "plot without title"
      ]
     },
     "metadata": {},
     "output_type": "display_data"
    }
   ],
   "source": [
    "# 그래프 그리기 위해 raw data 정제하기\n",
    "index <- c(1:length(excelData))\n",
    "r_tst <- cbind(index, excelData)\n",
    "r_tst <- as.data.frame(r_tst)\n",
    "options(repr.plot.width=8, repr.plot.height=4)\n",
    "\n",
    "\n",
    "# Raw data의 그래프 그리기 & 예측한 컴포넌트 나타내기\n",
    "tst_plot <- ggplot(data = r_tst, aes(x = r_tst[, 1], y = r_tst[, 2])) + xlab(\"시점\") + ylab('시계열 데이터') + geom_line(color = 'navy') + geom_point(size = 1)\n",
    "pred_comp = data.frame(Component = pred_comp)\n",
    "grid.arrange(tst_plot + ggtitle(paste('데이터명:', excelData_title)) + theme(plot.title = element_text(size = 20, hjust = 0.5)),\n",
    "             tableGrob(pred_comp, rows = NULL), widths = c(3, 1))"
   ]
  },
  {
   "cell_type": "code",
   "execution_count": null,
   "metadata": {},
   "outputs": [],
   "source": []
  }
 ],
 "metadata": {
  "kernelspec": {
   "display_name": "R",
   "language": "R",
   "name": "ir"
  },
  "language_info": {
   "codemirror_mode": "r",
   "file_extension": ".r",
   "mimetype": "text/x-r-source",
   "name": "R",
   "pygments_lexer": "r",
   "version": "3.6.1"
  }
 },
 "nbformat": 4,
 "nbformat_minor": 4
}
